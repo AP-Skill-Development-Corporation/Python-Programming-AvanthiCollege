{
 "cells": [
  {
   "cell_type": "markdown",
   "metadata": {},
   "source": [
    "## Day Objectives:\n",
    "\n",
    "- Files \n",
    "    - txt\n",
    "    - pdf\n",
    "    - zip files\n",
    "    - image\n",
    "    - video\n",
    "    - audio\n",
    "    - xlsx\n",
    "    - csv\n",
    "    - ppt\n",
    "- File Handling\n",
    "    - CRUD Operations\n",
    "        - C ==> Create\n",
    "        - R ==> Read\n",
    "        - U ==> Update\n",
    "        - D ==> Delete\n",
    "- File methods\n",
    "    - file_object = open('filename','mode')\n",
    "    - read()\n",
    "    - write()\n",
    "    - close()\n",
    "    \n",
    "- File Modes\n",
    "    - r ==> read mode\n",
    "    - w ==> write mode\n",
    "    - a ==> append mode\n",
    "- File operations\n",
    "    - reading\n",
    "    - writing\n",
    "    - updating\n",
    "    - closing\n",
    "    - deleting"
   ]
  },
  {
   "cell_type": "code",
   "execution_count": 2,
   "metadata": {},
   "outputs": [
    {
     "name": "stdout",
     "output_type": "stream",
     "text": [
      "Hi ev\n",
      "\n",
      "eryone Goo\n",
      "\n",
      "d afternoon.\n",
      "Welcome to the session.\n"
     ]
    }
   ],
   "source": [
    "f = open('names.txt','r')\n",
    "first_5 = f.read(5)\n",
    "print(first_5)\n",
    "print()\n",
    "nxt = f.read(10)\n",
    "print(nxt)\n",
    "print()\n",
    "print(f.read())\n",
    "f.close()\n",
    "\n",
    "#f.read()"
   ]
  },
  {
   "cell_type": "code",
   "execution_count": 4,
   "metadata": {},
   "outputs": [],
   "source": [
    "#open('data.txt','r')"
   ]
  },
  {
   "cell_type": "markdown",
   "metadata": {},
   "source": [
    "#### write() method and write mode\n",
    "\n",
    "- write() this method wil be used to write to a file in both modes 'w' and 'a'\n",
    "- if we opened any file in 'w' mode if it is existed in the system then it will opended or else if we want to open any non-existing file then it will create a new file with the given name."
   ]
  },
  {
   "cell_type": "code",
   "execution_count": 5,
   "metadata": {},
   "outputs": [
    {
     "data": {
      "text/plain": [
       "51"
      ]
     },
     "execution_count": 5,
     "metadata": {},
     "output_type": "execute_result"
    }
   ],
   "source": [
    "fo = open('names.txt','w')\n",
    "fo.write('Hi everyone Good afternoon.\\nWelcome to the session.')"
   ]
  },
  {
   "cell_type": "code",
   "execution_count": 13,
   "metadata": {},
   "outputs": [
    {
     "data": {
      "text/plain": [
       "47"
      ]
     },
     "execution_count": 13,
     "metadata": {},
     "output_type": "execute_result"
    }
   ],
   "source": [
    "ff = open(\"file.txt\",'w')\n",
    "ff.write(\"This is newly created file by using write mode.\")"
   ]
  },
  {
   "cell_type": "code",
   "execution_count": 12,
   "metadata": {},
   "outputs": [
    {
     "data": {
      "text/plain": [
       "66"
      ]
     },
     "execution_count": 12,
     "metadata": {},
     "output_type": "execute_result"
    }
   ],
   "source": [
    "ff.write(\"Welcome to the Python Onlne Session.\\nToday topic is file handling.\")"
   ]
  },
  {
   "cell_type": "code",
   "execution_count": 7,
   "metadata": {},
   "outputs": [
    {
     "data": {
      "text/plain": [
       "16"
      ]
     },
     "execution_count": 7,
     "metadata": {},
     "output_type": "execute_result"
    }
   ],
   "source": [
    "f = open('data.txt','w')\n",
    "f.write(\"today is friday.\")"
   ]
  },
  {
   "cell_type": "code",
   "execution_count": 11,
   "metadata": {},
   "outputs": [
    {
     "data": {
      "text/plain": [
       "25"
      ]
     },
     "execution_count": 11,
     "metadata": {},
     "output_type": "execute_result"
    }
   ],
   "source": [
    "f.write(\"im modifying the content.\")"
   ]
  },
  {
   "cell_type": "code",
   "execution_count": 17,
   "metadata": {},
   "outputs": [],
   "source": [
    "## w - overwrites the data means it erases the existing data and write the new data to that file.\n",
    "## a - it appends the data to the existing data.\n",
    "f = open(\"names.txt\",'a')\n",
    "f.write(\"\\nThis is second line.\")\n",
    "f.close()"
   ]
  },
  {
   "cell_type": "code",
   "execution_count": null,
   "metadata": {},
   "outputs": [],
   "source": []
  },
  {
   "cell_type": "code",
   "execution_count": 19,
   "metadata": {
    "scrolled": true
   },
   "outputs": [
    {
     "name": "stdout",
     "output_type": "stream",
     "text": [
      "hello@ world\n",
      "python# programming\n",
      "Learning modules\n",
      "happy learning\n"
     ]
    }
   ],
   "source": [
    "with open(\"myfile.txt\",'r') as fob:\n",
    "    filedata = fob.read()\n",
    "    print(filedata)"
   ]
  },
  {
   "cell_type": "code",
   "execution_count": 22,
   "metadata": {
    "collapsed": true
   },
   "outputs": [
    {
     "data": {
      "text/plain": [
       "'today is friday.\\nim modifying the content.\\nim modifying the content.'"
      ]
     },
     "execution_count": 22,
     "metadata": {},
     "output_type": "execute_result"
    }
   ],
   "source": [
    "def readFile(filename):\n",
    "    with open(filename,'r') as fob:\n",
    "        filedata = fob.read()\n",
    "    return filedata\n",
    "readFile('data.txt')"
   ]
  },
  {
   "cell_type": "code",
   "execution_count": 23,
   "metadata": {
    "collapsed": true
   },
   "outputs": [
    {
     "data": {
      "text/plain": [
       "'hello@ world\\npython# programming\\nLearning modules\\nhappy learning'"
      ]
     },
     "execution_count": 23,
     "metadata": {},
     "output_type": "execute_result"
    }
   ],
   "source": [
    "readFile('myfile.txt')"
   ]
  },
  {
   "cell_type": "code",
   "execution_count": 25,
   "metadata": {
    "collapsed": true
   },
   "outputs": [
    {
     "data": {
      "text/plain": [
       "'student 1.000000 \\nstudent 2.000000 \\nstudent 3.000000 \\nstudent 4.000000 \\nstudent 5.000000 \\nstudent 6.000000 \\nstudent 7.000000 \\nstudent 8.000000 \\nstudent 9.000000 \\nstudent 10.000000 \\nstudent 11.000000 \\nstudent 12.000000 \\nstudent 13.000000 \\nstudent 14.000000 \\nstudent 15.000000 \\nstudent 16.000000 \\nstudent 17.000000 \\nstudent 18.000000 \\nstudent 19.000000 \\nstudent 20.000000 \\nstudent 21.000000 \\nstudent 22.000000 \\nstudent 23.000000 \\nstudent 24.000000 \\nstudent 25.000000 \\nstudent 26.000000 \\nstudent 27.000000 \\nstudent 28.000000 \\nstudent 29.000000 \\nstudent 30.000000 \\nstudent 31.000000 \\nstudent 32.000000 \\nstudent 33.000000 \\nstudent 34.000000 \\nstudent 35.000000 \\nstudent 36.000000 \\nstudent 37.000000 \\nstudent 38.000000 \\nstudent 39.000000 \\nstudent 40.000000 \\nstudent 41.000000 \\nstudent 42.000000 \\nstudent 43.000000 \\nstudent 44.000000 \\nstudent 45.000000 \\nstudent 46.000000 \\nstudent 47.000000 \\nstudent 48.000000 \\nstudent 49.000000 \\nstudent 50.000000 \\nstudent 51.000000 \\nstudent 52.000000 \\nstudent 53.000000 \\nstudent 54.000000 \\nstudent 55.000000 \\nstudent 56.000000 \\nstudent 57.000000 \\nstudent 58.000000 \\nstudent 59.000000 \\nstudent 60.000000 \\n'"
      ]
     },
     "execution_count": 25,
     "metadata": {},
     "output_type": "execute_result"
    }
   ],
   "source": [
    "readFile(\"students.txt\")"
   ]
  },
  {
   "cell_type": "code",
   "execution_count": 28,
   "metadata": {
    "collapsed": true
   },
   "outputs": [
    {
     "name": "stdout",
     "output_type": "stream",
     "text": [
      "hello@ world\n",
      "\n",
      "python# programming\n",
      "\n",
      "Learning modules\n",
      "happy learning\n"
     ]
    }
   ],
   "source": [
    "with open('myfile.txt','r') as f:\n",
    "    line_1 = f.readline()\n",
    "    line_2 = f.readline() # reading line by line\n",
    "    data = f.read()\n",
    "    print(line_1)\n",
    "    print(line_2)\n",
    "    print(data)"
   ]
  },
  {
   "cell_type": "code",
   "execution_count": 29,
   "metadata": {},
   "outputs": [
    {
     "name": "stdout",
     "output_type": "stream",
     "text": [
      "['hello@ world\\n', 'python# programming\\n', 'Learning modules\\n', 'happy learning']\n"
     ]
    }
   ],
   "source": [
    "with open(\"myfile.txt\",'r') as f:\n",
    "    lines = f.readlines()\n",
    "    print(lines)"
   ]
  },
  {
   "cell_type": "code",
   "execution_count": 38,
   "metadata": {},
   "outputs": [
    {
     "name": "stdout",
     "output_type": "stream",
     "text": [
      "Number of Lines are:  3\n"
     ]
    }
   ],
   "source": [
    "## WAP to count the number of lines in a file.\n",
    "def No_of_lines(filename):\n",
    "    with open(filename,'r') as f:\n",
    "        #lines = f.readlines()\n",
    "        print(\"Number of Lines are: \",len(f.readlines()))\n",
    "No_of_lines(\"data.txt\")"
   ]
  },
  {
   "cell_type": "code",
   "execution_count": 40,
   "metadata": {
    "collapsed": true
   },
   "outputs": [
    {
     "data": {
      "text/plain": [
       "8"
      ]
     },
     "execution_count": 40,
     "metadata": {},
     "output_type": "execute_result"
    }
   ],
   "source": [
    "## Number of words\n",
    "def no_of_words(filename):\n",
    "    with open(filename,'r') as f:\n",
    "        lines = f.readlines()\n",
    "        words = 0\n",
    "        for line in lines:\n",
    "            words += len(line.split())\n",
    "    return words\n",
    "no_of_words(\"myfile.txt\")"
   ]
  },
  {
   "cell_type": "code",
   "execution_count": 41,
   "metadata": {
    "collapsed": true
   },
   "outputs": [
    {
     "data": {
      "text/plain": [
       "10"
      ]
     },
     "execution_count": 41,
     "metadata": {},
     "output_type": "execute_result"
    }
   ],
   "source": [
    "no_of_words(\"names.txt\")"
   ]
  },
  {
   "cell_type": "code",
   "execution_count": 44,
   "metadata": {
    "collapsed": true
   },
   "outputs": [
    {
     "data": {
      "text/plain": [
       "{'Masks': 2,\n",
       " 'can': 1,\n",
       " 'help': 1,\n",
       " 'prevent': 1,\n",
       " 'the': 5,\n",
       " 'spread': 1,\n",
       " 'of': 1,\n",
       " 'virus': 1,\n",
       " 'from': 1,\n",
       " 'person': 1,\n",
       " 'wearing': 1,\n",
       " 'mask': 1,\n",
       " 'to': 1,\n",
       " 'others.': 1,\n",
       " 'alone': 1,\n",
       " 'do': 1,\n",
       " 'not': 1,\n",
       " 'protect': 1,\n",
       " 'against': 1,\n",
       " 'COVID-19,': 1,\n",
       " 'and': 2,\n",
       " 'should': 1,\n",
       " 'be': 1,\n",
       " 'combined': 1,\n",
       " 'with': 1,\n",
       " 'physical': 1,\n",
       " 'distancing': 1,\n",
       " 'hand': 1,\n",
       " 'hygiene.': 1,\n",
       " 'Follow': 1,\n",
       " 'advice': 1,\n",
       " 'provided': 1,\n",
       " 'by': 1,\n",
       " 'your': 1,\n",
       " 'local': 1,\n",
       " 'health': 1,\n",
       " 'authority.': 1}"
      ]
     },
     "execution_count": 44,
     "metadata": {},
     "output_type": "execute_result"
    }
   ],
   "source": [
    "## word:count word:count\n",
    "def word_freq(filename):\n",
    "    with open(filename,'r') as f:\n",
    "        lines = f.readlines()  # list of lines\n",
    "        freq_dict = {}\n",
    "        for line in lines:      # accessin each line from lines list\n",
    "            words = line.split()  # spliting the line into words\n",
    "            for word in words:    # accessing each words from words list\n",
    "                if word not in freq_dict:\n",
    "                    freq_dict[word] = 1\n",
    "                else:\n",
    "                    freq_dict[word] += 1\n",
    "    return freq_dict\n",
    "word_freq(\"corona.txt\")"
   ]
  },
  {
   "cell_type": "code",
   "execution_count": null,
   "metadata": {},
   "outputs": [],
   "source": [
    "## Unique words"
   ]
  },
  {
   "cell_type": "code",
   "execution_count": null,
   "metadata": {},
   "outputs": [],
   "source": []
  },
  {
   "cell_type": "code",
   "execution_count": null,
   "metadata": {},
   "outputs": [],
   "source": []
  },
  {
   "cell_type": "code",
   "execution_count": null,
   "metadata": {},
   "outputs": [],
   "source": []
  },
  {
   "cell_type": "code",
   "execution_count": null,
   "metadata": {},
   "outputs": [],
   "source": []
  },
  {
   "cell_type": "code",
   "execution_count": null,
   "metadata": {},
   "outputs": [],
   "source": []
  },
  {
   "cell_type": "code",
   "execution_count": null,
   "metadata": {},
   "outputs": [],
   "source": []
  },
  {
   "cell_type": "code",
   "execution_count": null,
   "metadata": {},
   "outputs": [],
   "source": []
  }
 ],
 "metadata": {
  "kernelspec": {
   "display_name": "Python 3",
   "language": "python",
   "name": "python3"
  },
  "language_info": {
   "codemirror_mode": {
    "name": "ipython",
    "version": 3
   },
   "file_extension": ".py",
   "mimetype": "text/x-python",
   "name": "python",
   "nbconvert_exporter": "python",
   "pygments_lexer": "ipython3",
   "version": "3.7.6"
  }
 },
 "nbformat": 4,
 "nbformat_minor": 4
}
