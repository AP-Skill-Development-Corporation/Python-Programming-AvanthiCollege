{
 "cells": [
  {
   "cell_type": "markdown",
   "metadata": {},
   "source": [
    "### Functions\n",
    "* block of statements to perform perticular task is function\n",
    "* whenever u cal the function then only it will return the result value or output to the user\n",
    "###### Adv\n",
    "- function calling \n",
    "- code reusability\n",
    "\n",
    "###### Types of functions\n",
    "1. BUil_in functions\n",
    "    * these are the function which available in python \n",
    "    1. sum ---> to cal sum \n",
    "    2. len --> it will return length of the string(input)\n",
    "    3. min --> to calculate minimum values from the input\n",
    "    4. max --> to calculate maximum value from the input\n",
    "    5. abs --> to convert given value into positive value\n",
    "    6. chr --> to calculate character from the ascii value\n",
    "        - in chr function input should be integer num(ex: chr(122))\n",
    "    7. ord --> to calculate ascii value\n",
    "        - in ord function input should be string format(ex: ord('a')\n",
    "2. User Defined\n",
    "    * these are the functions which defined by the user to implement perticular task\n",
    "    - in this we can see 4 types of functions\n",
    "    1. required arg\n",
    "    2. Default arguments\n",
    "    3. keyword arguments\n",
    "    4. variable length orguments"
   ]
  },
  {
   "cell_type": "code",
   "execution_count": null,
   "metadata": {},
   "outputs": [],
   "source": [
    "#Syntax of a function\n",
    "def function_name(arg):   #functin declaration\n",
    "    #statement1\n",
    "    #statement2\n",
    "    .                  #body of the function\n",
    "    .\n",
    "    #statements\n",
    "    \n",
    "function_name()       #function calling"
   ]
  },
  {
   "cell_type": "code",
   "execution_count": null,
   "metadata": {},
   "outputs": [],
   "source": [
    "print()\n",
    "print(\"gch\")"
   ]
  },
  {
   "cell_type": "code",
   "execution_count": 2,
   "metadata": {},
   "outputs": [],
   "source": [
    "def Sample():\n",
    "    print(\"Welcome to Online python programming\")\n",
    "    print(\"By APSSDC\")"
   ]
  },
  {
   "cell_type": "code",
   "execution_count": 3,
   "metadata": {},
   "outputs": [
    {
     "name": "stdout",
     "output_type": "stream",
     "text": [
      "Welcome to Online python programming\n",
      "By APSSDC\n"
     ]
    }
   ],
   "source": [
    "def Sample():\n",
    "    print(\"Welcome to Online python programming\")\n",
    "    print(\"By APSSDC\")\n",
    "Sample()"
   ]
  },
  {
   "cell_type": "code",
   "execution_count": 4,
   "metadata": {},
   "outputs": [
    {
     "name": "stdout",
     "output_type": "stream",
     "text": [
      "Welcome to Online python programming\n",
      "By APSSDC\n"
     ]
    }
   ],
   "source": [
    "#required arg\n",
    "\n",
    "def Required_args():\n",
    "    print(\"Welcome to Online python programming\")\n",
    "    print(\"By APSSDC\")\n",
    "Required_args()  "
   ]
  },
  {
   "cell_type": "code",
   "execution_count": 5,
   "metadata": {},
   "outputs": [
    {
     "name": "stdout",
     "output_type": "stream",
     "text": [
      "archana\n"
     ]
    },
    {
     "ename": "TypeError",
     "evalue": "Required_args() missing 1 required positional argument: 'name'",
     "output_type": "error",
     "traceback": [
      "\u001b[1;31m---------------------------------------------------------------------------\u001b[0m",
      "\u001b[1;31mTypeError\u001b[0m                                 Traceback (most recent call last)",
      "\u001b[1;32m<ipython-input-5-122c951a0b9b>\u001b[0m in \u001b[0;36m<module>\u001b[1;34m\u001b[0m\n\u001b[0;32m      4\u001b[0m     \u001b[0mprint\u001b[0m\u001b[1;33m(\u001b[0m\u001b[1;34m\"Welcome to Online python programming\"\u001b[0m\u001b[1;33m,\u001b[0m\u001b[0mname\u001b[0m\u001b[1;33m)\u001b[0m\u001b[1;33m\u001b[0m\u001b[1;33m\u001b[0m\u001b[0m\n\u001b[0;32m      5\u001b[0m     \u001b[0mprint\u001b[0m\u001b[1;33m(\u001b[0m\u001b[1;34m\"By APSSDC\"\u001b[0m\u001b[1;33m)\u001b[0m\u001b[1;33m\u001b[0m\u001b[1;33m\u001b[0m\u001b[0m\n\u001b[1;32m----> 6\u001b[1;33m \u001b[0mRequired_args\u001b[0m\u001b[1;33m(\u001b[0m\u001b[1;33m)\u001b[0m\u001b[1;33m\u001b[0m\u001b[1;33m\u001b[0m\u001b[0m\n\u001b[0m",
      "\u001b[1;31mTypeError\u001b[0m: Required_args() missing 1 required positional argument: 'name'"
     ]
    }
   ],
   "source": [
    "#required arg\n",
    "name = input()\n",
    "def Required_args(name):\n",
    "    print(\"Welcome to Online python programming\",name)\n",
    "    print(\"By APSSDC\")\n",
    "Required_args()"
   ]
  },
  {
   "cell_type": "code",
   "execution_count": 7,
   "metadata": {},
   "outputs": [
    {
     "name": "stdout",
     "output_type": "stream",
     "text": [
      "Archana\n",
      "Welcome to Online python programming Archana\n",
      "By APSSDC\n"
     ]
    }
   ],
   "source": [
    "#required arg\n",
    "name = input()\n",
    "def Required_args(name):\n",
    "    print(\"Welcome to Online python programming\",name)\n",
    "    print(\"By APSSDC\")\n",
    "Required_args(name)"
   ]
  },
  {
   "cell_type": "code",
   "execution_count": 8,
   "metadata": {},
   "outputs": [
    {
     "ename": "NameError",
     "evalue": "name 'name1' is not defined",
     "output_type": "error",
     "traceback": [
      "\u001b[1;31m---------------------------------------------------------------------------\u001b[0m",
      "\u001b[1;31mNameError\u001b[0m                                 Traceback (most recent call last)",
      "\u001b[1;32m<ipython-input-8-7b136572ad6c>\u001b[0m in \u001b[0;36m<module>\u001b[1;34m\u001b[0m\n\u001b[0;32m      2\u001b[0m     \u001b[0mprint\u001b[0m\u001b[1;33m(\u001b[0m\u001b[1;34m\"Welcome to Online python programming\"\u001b[0m\u001b[1;33m,\u001b[0m\u001b[0mname1\u001b[0m\u001b[1;33m)\u001b[0m\u001b[1;33m\u001b[0m\u001b[1;33m\u001b[0m\u001b[0m\n\u001b[0;32m      3\u001b[0m     \u001b[0mprint\u001b[0m\u001b[1;33m(\u001b[0m\u001b[1;34m\"By APSSDC\"\u001b[0m\u001b[1;33m)\u001b[0m\u001b[1;33m\u001b[0m\u001b[1;33m\u001b[0m\u001b[0m\n\u001b[1;32m----> 4\u001b[1;33m \u001b[0mRequired_args\u001b[0m\u001b[1;33m(\u001b[0m\u001b[0mname1\u001b[0m\u001b[1;33m)\u001b[0m\u001b[1;33m\u001b[0m\u001b[1;33m\u001b[0m\u001b[0m\n\u001b[0m",
      "\u001b[1;31mNameError\u001b[0m: name 'name1' is not defined"
     ]
    }
   ],
   "source": [
    "def Required_args(name1):\n",
    "    print(\"Welcome to Online python programming\",name1)\n",
    "    print(\"By APSSDC\")\n",
    "Required_args(name1)"
   ]
  },
  {
   "cell_type": "code",
   "execution_count": 9,
   "metadata": {},
   "outputs": [
    {
     "name": "stdout",
     "output_type": "stream",
     "text": [
      "Welcome to Online python programming Archana\n",
      "By APSSDC\n"
     ]
    }
   ],
   "source": [
    "def Required_args(name1):\n",
    "    print(\"Welcome to Online python programming\",name1)\n",
    "    print(\"By APSSDC\")\n",
    "Required_args(\"Archana\")"
   ]
  },
  {
   "cell_type": "code",
   "execution_count": 11,
   "metadata": {},
   "outputs": [
    {
     "name": "stdout",
     "output_type": "stream",
     "text": [
      "Archana\n",
      "Welcome to Online python programming Anu\n",
      "By APSSDC\n"
     ]
    }
   ],
   "source": [
    "#required arg\n",
    "name = input()\n",
    "def Required_args(name):\n",
    "    print(\"Welcome to Online python programming\",name)\n",
    "    print(\"By APSSDC\")\n",
    "Required_args(\"Anu\")"
   ]
  },
  {
   "cell_type": "code",
   "execution_count": 12,
   "metadata": {},
   "outputs": [
    {
     "name": "stdout",
     "output_type": "stream",
     "text": [
      "archana\n"
     ]
    },
    {
     "ename": "TypeError",
     "evalue": "Required_args() takes 1 positional argument but 2 were given",
     "output_type": "error",
     "traceback": [
      "\u001b[1;31m---------------------------------------------------------------------------\u001b[0m",
      "\u001b[1;31mTypeError\u001b[0m                                 Traceback (most recent call last)",
      "\u001b[1;32m<ipython-input-12-07ad31ffaf63>\u001b[0m in \u001b[0;36m<module>\u001b[1;34m\u001b[0m\n\u001b[0;32m      4\u001b[0m     \u001b[0mprint\u001b[0m\u001b[1;33m(\u001b[0m\u001b[1;34m\"Welcome to Online python programming\"\u001b[0m\u001b[1;33m,\u001b[0m\u001b[0mname\u001b[0m\u001b[1;33m)\u001b[0m\u001b[1;33m\u001b[0m\u001b[1;33m\u001b[0m\u001b[0m\n\u001b[0;32m      5\u001b[0m     \u001b[0mprint\u001b[0m\u001b[1;33m(\u001b[0m\u001b[1;34m\"By APSSDC\"\u001b[0m\u001b[1;33m)\u001b[0m\u001b[1;33m\u001b[0m\u001b[1;33m\u001b[0m\u001b[0m\n\u001b[1;32m----> 6\u001b[1;33m \u001b[0mRequired_args\u001b[0m\u001b[1;33m(\u001b[0m\u001b[1;34m\"Anu\"\u001b[0m\u001b[1;33m,\u001b[0m\u001b[1;34m\"archana1\"\u001b[0m\u001b[1;33m)\u001b[0m\u001b[1;33m\u001b[0m\u001b[1;33m\u001b[0m\u001b[0m\n\u001b[0m",
      "\u001b[1;31mTypeError\u001b[0m: Required_args() takes 1 positional argument but 2 were given"
     ]
    }
   ],
   "source": [
    "#required arg\n",
    "name = input()\n",
    "def Required_args(name):\n",
    "    print(\"Welcome to Online python programming\",name)\n",
    "    print(\"By APSSDC\")\n",
    "Required_args(\"Anu\",\"archana1\")"
   ]
  },
  {
   "cell_type": "code",
   "execution_count": 13,
   "metadata": {},
   "outputs": [
    {
     "name": "stdout",
     "output_type": "stream",
     "text": [
      "Name is: Archana\n",
      "Roll no is: 5401\n"
     ]
    }
   ],
   "source": [
    "#default arg\n",
    "def Dafault(name,rollno=540):\n",
    "    print(\"Name is:\",name)\n",
    "    print(\"Roll no is:\",rollno)\n",
    "Dafault(\"Archana\",5401)"
   ]
  },
  {
   "cell_type": "code",
   "execution_count": 14,
   "metadata": {},
   "outputs": [
    {
     "name": "stdout",
     "output_type": "stream",
     "text": [
      "Name is: Archana\n",
      "Roll no is: 540\n"
     ]
    }
   ],
   "source": [
    "#default arg\n",
    "def Dafault(name,rollno=540):\n",
    "    print(\"Name is:\",name)\n",
    "    print(\"Roll no is:\",rollno)\n",
    "Dafault(\"Archana\")"
   ]
  },
  {
   "cell_type": "code",
   "execution_count": 15,
   "metadata": {},
   "outputs": [
    {
     "name": "stdout",
     "output_type": "stream",
     "text": [
      "Name is: archana\n",
      "Branch is: cse\n",
      "Roll no is: 540\n"
     ]
    }
   ],
   "source": [
    "#Keyword args\n",
    "def Keyword(name,branch,roll):\n",
    "    print(\"Name is:\",name)\n",
    "    print(\"Branch is:\",branch)\n",
    "    print(\"Roll no is:\",roll)\n",
    "Keyword(\"archana\",'cse',540)"
   ]
  },
  {
   "cell_type": "code",
   "execution_count": 16,
   "metadata": {},
   "outputs": [
    {
     "name": "stdout",
     "output_type": "stream",
     "text": [
      "Name is: cse\n",
      "Branch is: 540\n",
      "Roll no is: archana\n"
     ]
    }
   ],
   "source": [
    "#Keyword args\n",
    "def Keyword(name,branch,roll):\n",
    "    print(\"Name is:\",name)\n",
    "    print(\"Branch is:\",branch)\n",
    "    print(\"Roll no is:\",roll)\n",
    "Keyword('cse',540,\"archana\")"
   ]
  },
  {
   "cell_type": "code",
   "execution_count": 17,
   "metadata": {},
   "outputs": [
    {
     "name": "stdout",
     "output_type": "stream",
     "text": [
      "Name is: archana\n",
      "Branch is: cse\n",
      "Roll no is: 540\n"
     ]
    }
   ],
   "source": [
    "#Keyword args\n",
    "def Keyword(name,branch,roll):\n",
    "    print(\"Name is:\",name)\n",
    "    print(\"Branch is:\",branch)\n",
    "    print(\"Roll no is:\",roll)\n",
    "Keyword(branch='cse',roll=540,name=\"archana\")"
   ]
  },
  {
   "cell_type": "code",
   "execution_count": 18,
   "metadata": {},
   "outputs": [
    {
     "ename": "TypeError",
     "evalue": "Keyword() got an unexpected keyword argument 'age'",
     "output_type": "error",
     "traceback": [
      "\u001b[1;31m---------------------------------------------------------------------------\u001b[0m",
      "\u001b[1;31mTypeError\u001b[0m                                 Traceback (most recent call last)",
      "\u001b[1;32m<ipython-input-18-a5a0927bd466>\u001b[0m in \u001b[0;36m<module>\u001b[1;34m\u001b[0m\n\u001b[0;32m      4\u001b[0m     \u001b[0mprint\u001b[0m\u001b[1;33m(\u001b[0m\u001b[1;34m\"Branch is:\"\u001b[0m\u001b[1;33m,\u001b[0m\u001b[0mbranch\u001b[0m\u001b[1;33m)\u001b[0m\u001b[1;33m\u001b[0m\u001b[1;33m\u001b[0m\u001b[0m\n\u001b[0;32m      5\u001b[0m     \u001b[0mprint\u001b[0m\u001b[1;33m(\u001b[0m\u001b[1;34m\"Roll no is:\"\u001b[0m\u001b[1;33m,\u001b[0m\u001b[0mroll\u001b[0m\u001b[1;33m)\u001b[0m\u001b[1;33m\u001b[0m\u001b[1;33m\u001b[0m\u001b[0m\n\u001b[1;32m----> 6\u001b[1;33m \u001b[0mKeyword\u001b[0m\u001b[1;33m(\u001b[0m\u001b[0mbranch\u001b[0m\u001b[1;33m=\u001b[0m\u001b[1;34m'cse'\u001b[0m\u001b[1;33m,\u001b[0m\u001b[0mroll\u001b[0m\u001b[1;33m=\u001b[0m\u001b[1;36m540\u001b[0m\u001b[1;33m,\u001b[0m\u001b[0mname\u001b[0m\u001b[1;33m=\u001b[0m\u001b[1;34m\"archana\"\u001b[0m\u001b[1;33m,\u001b[0m\u001b[0mage\u001b[0m\u001b[1;33m=\u001b[0m\u001b[1;36m26\u001b[0m\u001b[1;33m)\u001b[0m\u001b[1;33m\u001b[0m\u001b[1;33m\u001b[0m\u001b[0m\n\u001b[0m",
      "\u001b[1;31mTypeError\u001b[0m: Keyword() got an unexpected keyword argument 'age'"
     ]
    }
   ],
   "source": [
    "#Keyword args\n",
    "def Keyword(name,branch,roll):\n",
    "    print(\"Name is:\",name)\n",
    "    print(\"Branch is:\",branch)\n",
    "    print(\"Roll no is:\",roll)\n",
    "Keyword(branch='cse',roll=540,name=\"archana\",age=26)"
   ]
  },
  {
   "cell_type": "code",
   "execution_count": 20,
   "metadata": {},
   "outputs": [
    {
     "name": "stdout",
     "output_type": "stream",
     "text": [
      "archana\n",
      "apssdc\n",
      "python\n",
      "Abcd\n"
     ]
    }
   ],
   "source": [
    "#variable length --> *variablename\n",
    "\n",
    "def Variable(*arg):\n",
    "    for i in arg:\n",
    "        print(i)\n",
    "Variable(\"archana\",\"apssdc\",\"python\",\"Abcd\")"
   ]
  },
  {
   "cell_type": "code",
   "execution_count": 22,
   "metadata": {},
   "outputs": [
    {
     "name": "stdout",
     "output_type": "stream",
     "text": [
      "archana --> 7\n",
      "apssdc --> 6\n",
      "python --> 6\n",
      "Abcd --> 4\n"
     ]
    }
   ],
   "source": [
    "#variable length --> *variablename\n",
    "\n",
    "def Variable(*arg):\n",
    "    for i in arg:\n",
    "        #print(i)\n",
    "        print(i,\"-->\",len(i))\n",
    "Variable(\"archana\",\"apssdc\",\"python\",\"Abcd\")"
   ]
  },
  {
   "cell_type": "code",
   "execution_count": 23,
   "metadata": {},
   "outputs": [
    {
     "name": "stdout",
     "output_type": "stream",
     "text": [
      "apssdc --> 6\n",
      "python --> 6\n",
      "Abcd --> 4\n"
     ]
    }
   ],
   "source": [
    "#variable length --> *variablename\n",
    "\n",
    "def Variable(*arg):\n",
    "    for i in arg:\n",
    "        if len(i)%2 == 0:\n",
    "            #print(i)\n",
    "            print(i,\"-->\",len(i))\n",
    "Variable(\"archana\",\"apssdc\",\"python\",\"Abcd\")"
   ]
  },
  {
   "cell_type": "code",
   "execution_count": null,
   "metadata": {},
   "outputs": [],
   "source": [
    "#1. local variable --> we can access lv within the function only\n",
    "#2. global variable --> we can access any where in the program\n"
   ]
  },
  {
   "cell_type": "code",
   "execution_count": 27,
   "metadata": {},
   "outputs": [
    {
     "name": "stdout",
     "output_type": "stream",
     "text": [
      "12\n",
      "13\n",
      "Addition od a and b is 25\n"
     ]
    }
   ],
   "source": [
    "#1 local variable\n",
    "def Addition():\n",
    "    a = int(input())\n",
    "    b = int(input())\n",
    "    print(\"Addition od a and b is\",a+b)\n",
    "Addition()"
   ]
  },
  {
   "cell_type": "code",
   "execution_count": 28,
   "metadata": {},
   "outputs": [
    {
     "name": "stdout",
     "output_type": "stream",
     "text": [
      "12\n",
      "13\n",
      "Addition od a and b is 25\n"
     ]
    },
    {
     "ename": "NameError",
     "evalue": "name 'a' is not defined",
     "output_type": "error",
     "traceback": [
      "\u001b[1;31m---------------------------------------------------------------------------\u001b[0m",
      "\u001b[1;31mNameError\u001b[0m                                 Traceback (most recent call last)",
      "\u001b[1;32m<ipython-input-28-a5a28b5d55da>\u001b[0m in \u001b[0;36m<module>\u001b[1;34m\u001b[0m\n\u001b[0;32m      5\u001b[0m     \u001b[0mprint\u001b[0m\u001b[1;33m(\u001b[0m\u001b[1;34m\"Addition od a and b is\"\u001b[0m\u001b[1;33m,\u001b[0m\u001b[0ma\u001b[0m\u001b[1;33m+\u001b[0m\u001b[0mb\u001b[0m\u001b[1;33m)\u001b[0m\u001b[1;33m\u001b[0m\u001b[1;33m\u001b[0m\u001b[0m\n\u001b[0;32m      6\u001b[0m \u001b[0mAddition\u001b[0m\u001b[1;33m(\u001b[0m\u001b[1;33m)\u001b[0m\u001b[1;33m\u001b[0m\u001b[1;33m\u001b[0m\u001b[0m\n\u001b[1;32m----> 7\u001b[1;33m \u001b[0mprint\u001b[0m\u001b[1;33m(\u001b[0m\u001b[1;34m\"a value is\"\u001b[0m\u001b[1;33m,\u001b[0m\u001b[0ma\u001b[0m\u001b[1;33m)\u001b[0m\u001b[1;33m\u001b[0m\u001b[1;33m\u001b[0m\u001b[0m\n\u001b[0m",
      "\u001b[1;31mNameError\u001b[0m: name 'a' is not defined"
     ]
    }
   ],
   "source": [
    "#1 local variable\n",
    "def Addition():\n",
    "    a = int(input())\n",
    "    b = int(input())\n",
    "    print(\"Addition od a and b is\",a+b)\n",
    "Addition()\n",
    "print(\"a value is\",a)"
   ]
  },
  {
   "cell_type": "code",
   "execution_count": 29,
   "metadata": {},
   "outputs": [
    {
     "name": "stdout",
     "output_type": "stream",
     "text": [
      "12\n",
      "2\n",
      "Multiplication of a and b is 24\n"
     ]
    }
   ],
   "source": [
    "#2. global variable\n",
    "a = int(input())\n",
    "b = int(input())\n",
    "def Multiplication():\n",
    "    print(\"Multiplication of a and b is\",a*b)\n",
    "Multiplication()"
   ]
  },
  {
   "cell_type": "code",
   "execution_count": 1,
   "metadata": {},
   "outputs": [
    {
     "name": "stdout",
     "output_type": "stream",
     "text": [
      "12\n",
      "2\n",
      "Multiplication of a and b is 24\n",
      "a value is 12\n",
      "b value is 2\n"
     ]
    }
   ],
   "source": [
    "#2. global variable\n",
    "a = int(input())\n",
    "b = int(input())\n",
    "def Multiplication():\n",
    "    print(\"Multiplication of a and b is\",a*b)\n",
    "Multiplication()\n",
    "print(\"a value is\",a)\n",
    "print(\"b value is\",b)"
   ]
  },
  {
   "cell_type": "code",
   "execution_count": 4,
   "metadata": {},
   "outputs": [
    {
     "name": "stdout",
     "output_type": "stream",
     "text": [
      "10\n"
     ]
    }
   ],
   "source": [
    "#buil_in functions\n",
    "s = [1,2,3,4]    #l = 1,2,3,4,5\n",
    "res = sum(s)\n",
    "print(res)"
   ]
  },
  {
   "cell_type": "code",
   "execution_count": 5,
   "metadata": {},
   "outputs": [
    {
     "name": "stdout",
     "output_type": "stream",
     "text": [
      "6\n"
     ]
    }
   ],
   "source": [
    "s = \"apssdc\"\n",
    "print(len(s))"
   ]
  },
  {
   "cell_type": "code",
   "execution_count": 6,
   "metadata": {},
   "outputs": [
    {
     "name": "stdout",
     "output_type": "stream",
     "text": [
      "4\n"
     ]
    }
   ],
   "source": [
    "s = [1,2,3,4]\n",
    "print(max(s))"
   ]
  },
  {
   "cell_type": "code",
   "execution_count": 7,
   "metadata": {},
   "outputs": [
    {
     "name": "stdout",
     "output_type": "stream",
     "text": [
      "1\n"
     ]
    }
   ],
   "source": [
    "print(min(s))"
   ]
  },
  {
   "cell_type": "code",
   "execution_count": 9,
   "metadata": {},
   "outputs": [
    {
     "name": "stdout",
     "output_type": "stream",
     "text": [
      "-45\n",
      "45\n"
     ]
    }
   ],
   "source": [
    "#abs --> returns positive value\n",
    "s = -45\n",
    "print(s)\n",
    "print(abs(s))"
   ]
  },
  {
   "cell_type": "code",
   "execution_count": 11,
   "metadata": {},
   "outputs": [
    {
     "name": "stdout",
     "output_type": "stream",
     "text": [
      "-33\n",
      "33\n"
     ]
    }
   ],
   "source": [
    "a = 12-45\n",
    "print(a)\n",
    "print(abs(a))"
   ]
  },
  {
   "cell_type": "code",
   "execution_count": 17,
   "metadata": {},
   "outputs": [
    {
     "name": "stdout",
     "output_type": "stream",
     "text": [
      "65\n",
      "97\n",
      "114\n",
      "82\n",
      "53\n",
      "64\n"
     ]
    }
   ],
   "source": [
    "#ord --> return ascci value of a character\n",
    "\n",
    "print(ord(\"A\"))\n",
    "print(ord(\"a\"))\n",
    "print(ord(\"r\"))\n",
    "print(ord(\"R\"))\n",
    "print(ord(\"5\"))\n",
    "print(ord(\"@\"))"
   ]
  },
  {
   "cell_type": "code",
   "execution_count": 23,
   "metadata": {},
   "outputs": [
    {
     "name": "stdout",
     "output_type": "stream",
     "text": [
      "A\n",
      "a\n",
      "r\n",
      "R\n",
      "5\n",
      "@\n"
     ]
    }
   ],
   "source": [
    "#chr --> returns caharacter from ascii value\n",
    "print(chr(65))\n",
    "print(chr(97))\n",
    "print(chr(114))\n",
    "print(chr(82))\n",
    "print(chr(53))\n",
    "print(chr(64))"
   ]
  },
  {
   "cell_type": "code",
   "execution_count": 24,
   "metadata": {},
   "outputs": [
    {
     "name": "stdout",
     "output_type": "stream",
     "text": [
      "apssdc\n",
      "a\n",
      "p\n",
      "s\n",
      "s\n",
      "d\n",
      "c\n"
     ]
    }
   ],
   "source": [
    "name = input()\n",
    "for i in name:\n",
    "    print(i)"
   ]
  },
  {
   "cell_type": "code",
   "execution_count": 26,
   "metadata": {},
   "outputs": [
    {
     "name": "stdout",
     "output_type": "stream",
     "text": [
      "apssdc\n",
      "a --> 97\n",
      "p --> 112\n",
      "s --> 115\n",
      "s --> 115\n",
      "d --> 100\n",
      "c --> 99\n"
     ]
    }
   ],
   "source": [
    "name = input()\n",
    "for i in name:\n",
    "    print(i,\"-->\",ord(i))"
   ]
  },
  {
   "cell_type": "code",
   "execution_count": 29,
   "metadata": {},
   "outputs": [
    {
     "name": "stdout",
     "output_type": "stream",
     "text": [
      "python\n",
      "p --> 112\n",
      "t --> 116\n",
      "h --> 104\n",
      "n --> 110\n"
     ]
    }
   ],
   "source": [
    "name = input()\n",
    "for i in name:\n",
    "    if ord(i)%2 == 0:\n",
    "        print(i,\"-->\",ord(i))"
   ]
  },
  {
   "cell_type": "code",
   "execution_count": null,
   "metadata": {},
   "outputs": [],
   "source": [
    "s = input()"
   ]
  },
  {
   "cell_type": "code",
   "execution_count": null,
   "metadata": {},
   "outputs": [],
   "source": [
    "p y t h o n\n",
    "P   T H   N   ---> first condition\n",
    "  ord(y)*ord(y) -->"
   ]
  },
  {
   "cell_type": "code",
   "execution_count": 30,
   "metadata": {},
   "outputs": [
    {
     "data": {
      "text/plain": [
       "121"
      ]
     },
     "execution_count": 30,
     "metadata": {},
     "output_type": "execute_result"
    }
   ],
   "source": [
    "ord('y')"
   ]
  },
  {
   "cell_type": "code",
   "execution_count": 31,
   "metadata": {},
   "outputs": [
    {
     "data": {
      "text/plain": [
       "14641"
      ]
     },
     "execution_count": 31,
     "metadata": {},
     "output_type": "execute_result"
    }
   ],
   "source": [
    "121*121"
   ]
  },
  {
   "cell_type": "code",
   "execution_count": 32,
   "metadata": {},
   "outputs": [
    {
     "data": {
      "text/plain": [
       "146.41"
      ]
     },
     "execution_count": 32,
     "metadata": {},
     "output_type": "execute_result"
    }
   ],
   "source": [
    "14641/100\n"
   ]
  },
  {
   "cell_type": "code",
   "execution_count": null,
   "metadata": {},
   "outputs": [],
   "source": []
  },
  {
   "cell_type": "code",
   "execution_count": null,
   "metadata": {},
   "outputs": [],
   "source": []
  }
 ],
 "metadata": {
  "kernelspec": {
   "display_name": "Python 3",
   "language": "python",
   "name": "python3"
  },
  "language_info": {
   "codemirror_mode": {
    "name": "ipython",
    "version": 3
   },
   "file_extension": ".py",
   "mimetype": "text/x-python",
   "name": "python",
   "nbconvert_exporter": "python",
   "pygments_lexer": "ipython3",
   "version": "3.7.3"
  }
 },
 "nbformat": 4,
 "nbformat_minor": 2
}
