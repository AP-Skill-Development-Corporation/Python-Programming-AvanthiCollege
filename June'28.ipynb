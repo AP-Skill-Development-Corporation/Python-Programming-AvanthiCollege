{
 "cells": [
  {
   "cell_type": "markdown",
   "metadata": {},
   "source": [
    "### OOP's with python\n",
    "- object oriented programming language\n",
    "- it support to develop a logic using classes and objects\n",
    "- it support to develop web application easily\n",
    "\n",
    "1. class\n",
    "    - class is collection of objects\n",
    "    - class is a logical entity that has some attribute and methods\n",
    "    - for ex: Student\n",
    "        - attributes --> student_name,student_id,students_branch        \n",
    "2. object\n",
    "    - it is real world entity that has state and bhaviour\n",
    "    - obj_name = classname\n",
    "3. method\n",
    "    - it is function to perform logic/accessing the attributes\n",
    "4. constructor\n",
    "    - it is special method/function to access the objects\n",
    "5. inheritance\n",
    "    - it is import part of oop's \n",
    "    - we will aquires all properties of parent class in child class"
   ]
  },
  {
   "cell_type": "code",
   "execution_count": null,
   "metadata": {},
   "outputs": [],
   "source": [
    "#1. class\n",
    "\n",
    "#syntax of class\n",
    "\n",
    "class classname:\n",
    "    \n",
    "    statements1\n",
    "    ........\n",
    "    statementsn\n",
    "    "
   ]
  },
  {
   "cell_type": "code",
   "execution_count": null,
   "metadata": {},
   "outputs": [],
   "source": [
    "#2. object\n",
    "#suntax of object\n",
    "class class_name:\n",
    "    statements\n",
    "    \n",
    "object_name = classname"
   ]
  },
  {
   "cell_type": "code",
   "execution_count": null,
   "metadata": {},
   "outputs": [],
   "source": [
    "#3. method\n",
    "#syntax of function\n",
    "def function_name(arg):\n",
    "    statements\n",
    "    \n",
    "class class_name:\n",
    "    n = 1\n",
    "    \n",
    "    #syntax of method\n",
    "    def method_name():\n",
    "        statements"
   ]
  },
  {
   "cell_type": "code",
   "execution_count": null,
   "metadata": {},
   "outputs": [],
   "source": [
    "#4. constructor\n",
    "#syntaxt of constructor\n",
    "\n",
    "class class_name:\n",
    "    \n",
    "    def __init__():\n",
    "        statements"
   ]
  },
  {
   "cell_type": "code",
   "execution_count": null,
   "metadata": {},
   "outputs": [],
   "source": [
    "#inheritance\n",
    "#syntax\n",
    "\n",
    "class classname1:\n",
    "    statements\n",
    "    \n",
    "class classname2(classname1):    #aquiring all the properties of parent class\n",
    "    statements\n",
    "    "
   ]
  },
  {
   "cell_type": "code",
   "execution_count": 1,
   "metadata": {},
   "outputs": [],
   "source": [
    "#example of class\n",
    "\n",
    "class Student:\n",
    "    sname = \"archana\"\n",
    "    sroll = \"A0540\"\n",
    "    sbranch = \"cse\""
   ]
  },
  {
   "cell_type": "code",
   "execution_count": 5,
   "metadata": {},
   "outputs": [],
   "source": [
    "#object creation\n",
    "st = Student()"
   ]
  },
  {
   "cell_type": "code",
   "execution_count": 7,
   "metadata": {},
   "outputs": [
    {
     "name": "stdout",
     "output_type": "stream",
     "text": [
      "Name is: archana\n",
      "roll no is: A0540\n",
      "\n",
      "branch is cse\n"
     ]
    }
   ],
   "source": [
    "print(\"Name is:\",st.sname)\n",
    "print(\"roll no is:\",st.sroll)\n",
    "print()\n",
    "\n",
    "print(\"branch is\",st.sbranch)"
   ]
  },
  {
   "cell_type": "code",
   "execution_count": 17,
   "metadata": {},
   "outputs": [],
   "source": [
    "#sample class for emp\n",
    "class Emp:\n",
    "    emp_name = \"Archana\"\n",
    "    emp_id = \"AO1327\"\n",
    "    emp_des = \"Technical Skill Trainer\"\n",
    "    \n",
    "    #method declaration\n",
    "    def display(self):\n",
    "        print(\"Employee name is: \",self.emp_name)\n",
    "        print(\"Employee id is: \",self.emp_id)\n",
    "        print(\"Employee Des is: \",self.emp_des)"
   ]
  },
  {
   "cell_type": "code",
   "execution_count": 18,
   "metadata": {},
   "outputs": [],
   "source": [
    "em = Emp()"
   ]
  },
  {
   "cell_type": "code",
   "execution_count": 19,
   "metadata": {},
   "outputs": [
    {
     "name": "stdout",
     "output_type": "stream",
     "text": [
      "Archana\n",
      "AO1327\n"
     ]
    }
   ],
   "source": [
    "print(em.emp_name)\n",
    "print(em.emp_id)"
   ]
  },
  {
   "cell_type": "code",
   "execution_count": 20,
   "metadata": {},
   "outputs": [
    {
     "name": "stdout",
     "output_type": "stream",
     "text": [
      "Employee name is:  Archana\n",
      "Employee id is:  AO1327\n",
      "Employee Des is:  Technical Skill Trainer\n"
     ]
    }
   ],
   "source": [
    "em.display()"
   ]
  },
  {
   "cell_type": "code",
   "execution_count": 21,
   "metadata": {},
   "outputs": [
    {
     "name": "stdout",
     "output_type": "stream",
     "text": [
      "gec\n",
      "48\n",
      "gudlavalleru\n"
     ]
    }
   ],
   "source": [
    "#dynamic values\n",
    "class College:\n",
    "    clg_name = input()\n",
    "    clg_code = int(input())\n",
    "    clg_area = input()\n",
    "    "
   ]
  },
  {
   "cell_type": "code",
   "execution_count": 22,
   "metadata": {},
   "outputs": [],
   "source": [
    "c = College()"
   ]
  },
  {
   "cell_type": "code",
   "execution_count": 23,
   "metadata": {},
   "outputs": [
    {
     "data": {
      "text/plain": [
       "'gec'"
      ]
     },
     "execution_count": 23,
     "metadata": {},
     "output_type": "execute_result"
    }
   ],
   "source": [
    "c.clg_name"
   ]
  },
  {
   "cell_type": "code",
   "execution_count": 24,
   "metadata": {},
   "outputs": [
    {
     "data": {
      "text/plain": [
       "48"
      ]
     },
     "execution_count": 24,
     "metadata": {},
     "output_type": "execute_result"
    }
   ],
   "source": [
    "c.clg_code"
   ]
  },
  {
   "cell_type": "code",
   "execution_count": 25,
   "metadata": {},
   "outputs": [
    {
     "data": {
      "text/plain": [
       "'gudlavalleru'"
      ]
     },
     "execution_count": 25,
     "metadata": {},
     "output_type": "execute_result"
    }
   ],
   "source": [
    "c.clg_area"
   ]
  },
  {
   "cell_type": "code",
   "execution_count": 33,
   "metadata": {},
   "outputs": [
    {
     "name": "stdout",
     "output_type": "stream",
     "text": [
      "ge\n",
      "48\n",
      "gudlavalleru\n"
     ]
    }
   ],
   "source": [
    "#dynamic values\n",
    "class College:\n",
    "    clg_name = input()\n",
    "    clg_code = int(input())\n",
    "    clg_area = input()\n",
    "    \n",
    "    def show(self):\n",
    "        print(self.clg_name+self.clg_area)\n",
    "        print(\"college code is: \",self.clg_code)\n",
    "        "
   ]
  },
  {
   "cell_type": "code",
   "execution_count": 34,
   "metadata": {},
   "outputs": [],
   "source": [
    "c1 = College()"
   ]
  },
  {
   "cell_type": "code",
   "execution_count": 35,
   "metadata": {},
   "outputs": [
    {
     "name": "stdout",
     "output_type": "stream",
     "text": [
      "ge\n",
      "48\n",
      "gudlavalleru\n"
     ]
    }
   ],
   "source": [
    "print(c1.clg_name)\n",
    "print(c1.clg_code)\n",
    "print(c1.clg_area)"
   ]
  },
  {
   "cell_type": "code",
   "execution_count": 36,
   "metadata": {},
   "outputs": [
    {
     "name": "stdout",
     "output_type": "stream",
     "text": [
      "gegudlavalleru\n",
      "college code is:  48\n"
     ]
    }
   ],
   "source": [
    "c1.show()"
   ]
  },
  {
   "cell_type": "code",
   "execution_count": null,
   "metadata": {},
   "outputs": [],
   "source": [
    "#constructor --> spl function r method\n",
    "- we will create a constructor by using spl variable \n",
    "    * __init__() --> we have to give arg\n",
    "                    - self --> reference variable/ default parameter\n",
    "\n",
    "1. parameterized\n",
    "    - a constructor with parameters\n",
    "2. non parameterized\n",
    "    - a constructor without parameters"
   ]
  },
  {
   "cell_type": "code",
   "execution_count": 37,
   "metadata": {},
   "outputs": [],
   "source": [
    "#syntax \n",
    "class Programming_Lang:\n",
    "    def __init__(self,python,c,java):\n",
    "        self.python = python\n",
    "        self.c = c\n",
    "        self.java = java"
   ]
  },
  {
   "cell_type": "code",
   "execution_count": 38,
   "metadata": {},
   "outputs": [],
   "source": [
    "pl = Programming_Lang('python supports oops','structural','oops')"
   ]
  },
  {
   "cell_type": "code",
   "execution_count": 40,
   "metadata": {},
   "outputs": [
    {
     "data": {
      "text/plain": [
       "'python supports oops'"
      ]
     },
     "execution_count": 40,
     "metadata": {},
     "output_type": "execute_result"
    }
   ],
   "source": [
    "pl.python"
   ]
  },
  {
   "cell_type": "code",
   "execution_count": 41,
   "metadata": {},
   "outputs": [
    {
     "data": {
      "text/plain": [
       "'structural'"
      ]
     },
     "execution_count": 41,
     "metadata": {},
     "output_type": "execute_result"
    }
   ],
   "source": [
    "pl.c"
   ]
  },
  {
   "cell_type": "code",
   "execution_count": 42,
   "metadata": {},
   "outputs": [
    {
     "data": {
      "text/plain": [
       "'oops'"
      ]
     },
     "execution_count": 42,
     "metadata": {},
     "output_type": "execute_result"
    }
   ],
   "source": [
    "pl.java"
   ]
  },
  {
   "cell_type": "code",
   "execution_count": 47,
   "metadata": {},
   "outputs": [],
   "source": [
    "#syntax \n",
    "class Programming_Lang:\n",
    "    def __init__(self,l1,l2,l3):\n",
    "        self.l1 = l1\n",
    "        self.l2 = l2\n",
    "        self.l3 = l3\n",
    "    def show(self):\n",
    "        print(self.l1,\"--> python is high level programming language\")\n",
    "        print(self.l2,\"--> c is structural programming language\")\n",
    "        print(self.l3,\"-->java is object oriented programming language\")"
   ]
  },
  {
   "cell_type": "code",
   "execution_count": 48,
   "metadata": {},
   "outputs": [],
   "source": [
    "program = Programming_Lang(\"Python\",\"c\",\"java\")"
   ]
  },
  {
   "cell_type": "code",
   "execution_count": 49,
   "metadata": {},
   "outputs": [
    {
     "data": {
      "text/plain": [
       "'Python'"
      ]
     },
     "execution_count": 49,
     "metadata": {},
     "output_type": "execute_result"
    }
   ],
   "source": [
    "program.l1"
   ]
  },
  {
   "cell_type": "code",
   "execution_count": 50,
   "metadata": {},
   "outputs": [
    {
     "data": {
      "text/plain": [
       "'c'"
      ]
     },
     "execution_count": 50,
     "metadata": {},
     "output_type": "execute_result"
    }
   ],
   "source": [
    "program.l2"
   ]
  },
  {
   "cell_type": "code",
   "execution_count": 51,
   "metadata": {},
   "outputs": [
    {
     "data": {
      "text/plain": [
       "'java'"
      ]
     },
     "execution_count": 51,
     "metadata": {},
     "output_type": "execute_result"
    }
   ],
   "source": [
    "program.l3"
   ]
  },
  {
   "cell_type": "code",
   "execution_count": 52,
   "metadata": {},
   "outputs": [
    {
     "name": "stdout",
     "output_type": "stream",
     "text": [
      "Python --> python is high level programming language\n",
      "c --> c is structural programming language\n",
      "java -->java is object oriented programming language\n"
     ]
    }
   ],
   "source": [
    "program.show()"
   ]
  },
  {
   "cell_type": "code",
   "execution_count": 53,
   "metadata": {},
   "outputs": [],
   "source": [
    "#parameterized\n",
    "\n",
    "class Family:\n",
    "    def __init__(self,fname,mname,daughter):\n",
    "        print(\"Welcome to parameterized constructor\")\n",
    "        self.fname = fname\n",
    "        self.mname = mname\n",
    "        self.daughter = daughter\n",
    "    def Family_details(self):\n",
    "        print(self.fname,\"-->he is head of the family\")\n",
    "        print(self.mname,\"--> she the home maker\")\n",
    "        print(self.daughter,'--> she is the daughter')"
   ]
  },
  {
   "cell_type": "code",
   "execution_count": 54,
   "metadata": {},
   "outputs": [
    {
     "name": "stdout",
     "output_type": "stream",
     "text": [
      "Welcome to parameterized constructor\n"
     ]
    }
   ],
   "source": [
    "f = Family('Babu','Vajramma','Archana')"
   ]
  },
  {
   "cell_type": "code",
   "execution_count": 55,
   "metadata": {},
   "outputs": [
    {
     "data": {
      "text/plain": [
       "'Babu'"
      ]
     },
     "execution_count": 55,
     "metadata": {},
     "output_type": "execute_result"
    }
   ],
   "source": [
    "f.fname"
   ]
  },
  {
   "cell_type": "code",
   "execution_count": 56,
   "metadata": {},
   "outputs": [
    {
     "data": {
      "text/plain": [
       "'Vajramma'"
      ]
     },
     "execution_count": 56,
     "metadata": {},
     "output_type": "execute_result"
    }
   ],
   "source": [
    "f.mname"
   ]
  },
  {
   "cell_type": "code",
   "execution_count": 57,
   "metadata": {},
   "outputs": [
    {
     "data": {
      "text/plain": [
       "'Archana'"
      ]
     },
     "execution_count": 57,
     "metadata": {},
     "output_type": "execute_result"
    }
   ],
   "source": [
    "f.daughter"
   ]
  },
  {
   "cell_type": "code",
   "execution_count": 58,
   "metadata": {},
   "outputs": [
    {
     "name": "stdout",
     "output_type": "stream",
     "text": [
      "Babu -->he is head of the family\n",
      "Vajramma --> she the home maker\n",
      "Archana --> she is the daughter\n"
     ]
    }
   ],
   "source": [
    "f.Family_details()"
   ]
  },
  {
   "cell_type": "code",
   "execution_count": 59,
   "metadata": {},
   "outputs": [],
   "source": [
    "#non parameterized---> without parameters\n",
    "\n",
    "class Student:\n",
    "    def __init__(self):\n",
    "        print(\"Welcome to non parameterized constructor\")\n",
    "        \n",
    "    def details(self,a,b):\n",
    "        print(\"addition is==>\",a+b)\n",
    "    "
   ]
  },
  {
   "cell_type": "code",
   "execution_count": 64,
   "metadata": {},
   "outputs": [
    {
     "name": "stdout",
     "output_type": "stream",
     "text": [
      "Welcome to non parameterized constructor\n",
      "addition is==> 23\n"
     ]
    }
   ],
   "source": [
    "st = Student()\n",
    "st.details(11,12)"
   ]
  },
  {
   "cell_type": "code",
   "execution_count": 65,
   "metadata": {},
   "outputs": [],
   "source": [
    "#multiple constructors\n",
    "class classname:\n",
    "    def __init__(self):\n",
    "        print(\"first constructor\")\n",
    "        \n",
    "    def __init__(self):\n",
    "        print(\"second one\")\n",
    "        \n",
    "    def __init__(self):\n",
    "        print(\"last constructor\")\n",
    "    "
   ]
  },
  {
   "cell_type": "code",
   "execution_count": 66,
   "metadata": {},
   "outputs": [
    {
     "name": "stdout",
     "output_type": "stream",
     "text": [
      "last constructor\n"
     ]
    }
   ],
   "source": [
    "cn = classname()"
   ]
  },
  {
   "cell_type": "code",
   "execution_count": 67,
   "metadata": {},
   "outputs": [],
   "source": [
    "#multiple constructors\n",
    "class classname:\n",
    "    def __init__(self):\n",
    "        print(\"first constructor\")\n",
    "        \n",
    "    def __init__(self):\n",
    "        print(\"second one\")\n",
    "    "
   ]
  },
  {
   "cell_type": "code",
   "execution_count": 68,
   "metadata": {},
   "outputs": [
    {
     "name": "stdout",
     "output_type": "stream",
     "text": [
      "second one\n"
     ]
    }
   ],
   "source": [
    "cn1 = classname()"
   ]
  },
  {
   "cell_type": "code",
   "execution_count": null,
   "metadata": {},
   "outputs": [],
   "source": []
  }
 ],
 "metadata": {
  "kernelspec": {
   "display_name": "Python 3",
   "language": "python",
   "name": "python3"
  },
  "language_info": {
   "codemirror_mode": {
    "name": "ipython",
    "version": 3
   },
   "file_extension": ".py",
   "mimetype": "text/x-python",
   "name": "python",
   "nbconvert_exporter": "python",
   "pygments_lexer": "ipython3",
   "version": "3.7.3"
  }
 },
 "nbformat": 4,
 "nbformat_minor": 2
}
