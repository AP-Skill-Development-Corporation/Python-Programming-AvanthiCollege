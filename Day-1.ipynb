{
 "cells": [
  {
   "cell_type": "markdown",
   "metadata": {},
   "source": [
    "# Markdown Format\n",
    "## Heading 2\n",
    "### h3\n",
    "#### h4\n",
    "##### h5\n",
    "###### h6\n",
    "\n",
    "\n",
    "**Python programming language**\n",
    "\n",
    "__bold text__\n",
    "\n",
    "*Italic text*\n",
    "\n",
    "_italic text_"
   ]
  },
  {
   "cell_type": "markdown",
   "metadata": {},
   "source": [
    "## bold and italic\n",
    "\n",
    "***bold and italic***\n",
    "\n",
    "___bold and italic___"
   ]
  },
  {
   "cell_type": "markdown",
   "metadata": {},
   "source": [
    "- two types of modes:\n",
    "    - if border is green --> edit mode ==> python code\n",
    "    - if border is blue --> command mode ==> keyboard shortcuts\n",
    "\n",
    "- press esc button to change edit mode to command mode.\n",
    "- to create a new cell above the current cell --> press 'a'\n",
    "- to create a new cell below the current cell --> press 'b'\n",
    "- deletion --> press 'd' two times.\n",
    "\n",
    "- Cell types:\n",
    "    - code cell --> to write python programs\n",
    "    - markdown cell --> documentation.\n",
    "\n",
    "    - code to markdown --> esc + m\n",
    "    - markdown to code --> esc + y\n",
    "    \n",
    "- How to run a cell in jupyter notebook ?\n",
    "    - shift+enter"
   ]
  },
  {
   "cell_type": "code",
   "execution_count": null,
   "metadata": {},
   "outputs": [],
   "source": []
  }
 ],
 "metadata": {
  "kernelspec": {
   "display_name": "Python 3",
   "language": "python",
   "name": "python3"
  },
  "language_info": {
   "codemirror_mode": {
    "name": "ipython",
    "version": 3
   },
   "file_extension": ".py",
   "mimetype": "text/x-python",
   "name": "python",
   "nbconvert_exporter": "python",
   "pygments_lexer": "ipython3",
   "version": "3.7.6"
  }
 },
 "nbformat": 4,
 "nbformat_minor": 4
}
