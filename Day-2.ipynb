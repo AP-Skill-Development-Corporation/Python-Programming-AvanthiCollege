{
 "cells": [
  {
   "cell_type": "markdown",
   "metadata": {},
   "source": [
    "## Day Objectives:\n",
    "\n",
    "- Python Basics\n",
    "    - input/output\n",
    "    - how can we display prompts\n",
    "    - how to print a msg\n",
    "    - variables\n",
    "    - data types\n",
    "        - types of data types\n",
    "        - conversions\n",
    "    - keywords"
   ]
  },
  {
   "cell_type": "markdown",
   "metadata": {},
   "source": [
    "1. fruits\n",
    "    1. banana\n",
    "    2. mango\n",
    "    3. guava\n",
    "2. flowers\n",
    "    1. rose\n",
    "        1. red rose\n",
    "        2. yellow rose\n",
    "        3. pink rose\n",
    "    2. lilly\n",
    "3. pets"
   ]
  },
  {
   "cell_type": "markdown",
   "metadata": {},
   "source": [
    "## Python Basics"
   ]
  },
  {
   "cell_type": "code",
   "execution_count": 3,
   "metadata": {
    "collapsed": true
   },
   "outputs": [
    {
     "name": "stdout",
     "output_type": "stream",
     "text": [
      "Good Afternoon All!!\n",
      "15\n",
      "welcome to python\n",
      "25\n"
     ]
    }
   ],
   "source": [
    "# print()\n",
    "print(\"Good Afternoon All!!\")\n",
    "\n",
    "print(\"15\")\n",
    "\n",
    "# WAP to print a msg \"welcome to python\"\n",
    "print('welcome to python')\n",
    "\n",
    "# to display 25\n",
    "print(25)"
   ]
  },
  {
   "cell_type": "markdown",
   "metadata": {},
   "source": [
    "## Variables & Data types\n",
    "\n",
    "- Variable is a named location where we can store one or more values.\n",
    "- Variable Naming Rules:\n",
    "    - Varaibale name should be starts with a character.\n",
    "    - should n't with a number,special character.\n",
    "    - We can't use keywords as a variable name\n",
    "    - Should n't contains special characters like (*,&,%,#,@,!..) except _\n",
    "    - it may contains alpha numeric characters.\n",
    "    - Should n't contains spaces.\n",
    "    - Valid Names: a,a1,_a,a_, aa\n",
    "    - invalid names: 1a,a*,@,.."
   ]
  },
  {
   "cell_type": "code",
   "execution_count": 11,
   "metadata": {},
   "outputs": [
    {
     "name": "stdout",
     "output_type": "stream",
     "text": [
      "lalitha\n",
      "name\n",
      "560\n",
      "34.98\n"
     ]
    }
   ],
   "source": [
    "name = \"lalitha\"\n",
    "\n",
    "# with the help variable name we can display the value.\n",
    "name\n",
    "print(name)\n",
    "print(\"name\")\n",
    "\n",
    "# how can we assign a integer value. num  560\n",
    "num = 560\n",
    "print(num)\n",
    "num\n",
    "\n",
    "f = 34.98\n",
    "print(f)"
   ]
  },
  {
   "cell_type": "code",
   "execution_count": 12,
   "metadata": {
    "collapsed": true
   },
   "outputs": [
    {
     "name": "stdout",
     "output_type": "stream",
     "text": [
      "['False', 'None', 'True', 'and', 'as', 'assert', 'async', 'await', 'break', 'class', 'continue', 'def', 'del', 'elif', 'else', 'except', 'finally', 'for', 'from', 'global', 'if', 'import', 'in', 'is', 'lambda', 'nonlocal', 'not', 'or', 'pass', 'raise', 'return', 'try', 'while', 'with', 'yield']\n"
     ]
    }
   ],
   "source": [
    "import keyword\n",
    "print(keyword.kwlist)"
   ]
  },
  {
   "cell_type": "markdown",
   "metadata": {},
   "source": [
    "### Data Types\n",
    "- Numbers\n",
    "    - integer :: 10,45,189 ....\n",
    "    - float   :: 9.8,65.3 ...\n",
    "    - complex :: 1+5j, -3i ...\n",
    "- Character\n",
    "    - string  :: 'any msg','any number'\n",
    "- Boolean\n",
    "    - True\n",
    "    - False"
   ]
  },
  {
   "cell_type": "code",
   "execution_count": 15,
   "metadata": {
    "scrolled": true
   },
   "outputs": [
    {
     "name": "stdout",
     "output_type": "stream",
     "text": [
      "vijay 32.5 87\n"
     ]
    }
   ],
   "source": [
    "s = 'vijay'\n",
    "f = 32.5\n",
    "i = 87\n",
    "\n",
    "# printing multiple values\n",
    "print(s,f,i)"
   ]
  },
  {
   "cell_type": "code",
   "execution_count": 18,
   "metadata": {
    "collapsed": true
   },
   "outputs": [
    {
     "name": "stdout",
     "output_type": "stream",
     "text": [
      "4.6\n",
      "sanju\n",
      "3\n"
     ]
    }
   ],
   "source": [
    "# multi variable assignment.\n",
    "a,b,c = 3,4.6,'sanju'\n",
    "print(b)\n",
    "print(c)\n",
    "print(a)"
   ]
  },
  {
   "cell_type": "code",
   "execution_count": 21,
   "metadata": {
    "collapsed": true
   },
   "outputs": [
    {
     "ename": "ValueError",
     "evalue": "too many values to unpack (expected 4)",
     "output_type": "error",
     "traceback": [
      "\u001b[1;31m---------------------------------------------------------------------------\u001b[0m",
      "\u001b[1;31mValueError\u001b[0m                                Traceback (most recent call last)",
      "\u001b[1;32m<ipython-input-21-e81f9c982512>\u001b[0m in \u001b[0;36m<module>\u001b[1;34m\u001b[0m\n\u001b[1;32m----> 1\u001b[1;33m \u001b[0mx\u001b[0m\u001b[1;33m,\u001b[0m\u001b[0my\u001b[0m\u001b[1;33m,\u001b[0m\u001b[0mz\u001b[0m\u001b[1;33m,\u001b[0m\u001b[0mu\u001b[0m \u001b[1;33m=\u001b[0m \u001b[1;36m3\u001b[0m\u001b[1;33m,\u001b[0m\u001b[1;36m4\u001b[0m\u001b[1;33m,\u001b[0m\u001b[1;36m6\u001b[0m\u001b[1;33m,\u001b[0m\u001b[1;36m8\u001b[0m\u001b[1;33m,\u001b[0m\u001b[1;36m9\u001b[0m\u001b[1;33m\u001b[0m\u001b[1;33m\u001b[0m\u001b[0m\n\u001b[0m\u001b[0;32m      2\u001b[0m \u001b[0mprint\u001b[0m\u001b[1;33m(\u001b[0m\u001b[0mz\u001b[0m\u001b[1;33m)\u001b[0m\u001b[1;33m\u001b[0m\u001b[1;33m\u001b[0m\u001b[0m\n",
      "\u001b[1;31mValueError\u001b[0m: too many values to unpack (expected 4)"
     ]
    }
   ],
   "source": [
    "x,y,z,u = 3,4,6,8,9\n",
    "print(z)"
   ]
  },
  {
   "cell_type": "code",
   "execution_count": 28,
   "metadata": {},
   "outputs": [
    {
     "data": {
      "text/plain": [
       "bool"
      ]
     },
     "execution_count": 28,
     "metadata": {},
     "output_type": "execute_result"
    }
   ],
   "source": [
    "# type()\n",
    "s,f,i = \"siri\",21.5,100\n",
    "\n",
    "type(f) # display the data type of f\n",
    "type(s) # \n",
    "type(i)\n",
    "type(True)\n",
    "type(False)"
   ]
  },
  {
   "cell_type": "markdown",
   "metadata": {},
   "source": [
    "## Type Conversions\n",
    "\n",
    "- int --> float, str\n",
    "- float --> int, str\n",
    "- str --> we can't into an integer or float\n",
    "- if it is a numeric string then we can convert"
   ]
  },
  {
   "cell_type": "code",
   "execution_count": 43,
   "metadata": {
    "collapsed": true
   },
   "outputs": [
    {
     "ename": "ValueError",
     "evalue": "invalid literal for int() with base 10: '5 8'",
     "output_type": "error",
     "traceback": [
      "\u001b[1;31m---------------------------------------------------------------------------\u001b[0m",
      "\u001b[1;31mValueError\u001b[0m                                Traceback (most recent call last)",
      "\u001b[1;32m<ipython-input-43-eb7f9336fa40>\u001b[0m in \u001b[0;36m<module>\u001b[1;34m\u001b[0m\n\u001b[0;32m     20\u001b[0m \u001b[1;33m\u001b[0m\u001b[0m\n\u001b[0;32m     21\u001b[0m \u001b[0mt\u001b[0m \u001b[1;33m=\u001b[0m \u001b[1;34m'5 8'\u001b[0m\u001b[1;33m\u001b[0m\u001b[1;33m\u001b[0m\u001b[0m\n\u001b[1;32m---> 22\u001b[1;33m \u001b[0mint\u001b[0m\u001b[1;33m(\u001b[0m\u001b[0mt\u001b[0m\u001b[1;33m)\u001b[0m\u001b[1;33m\u001b[0m\u001b[1;33m\u001b[0m\u001b[0m\n\u001b[0m\u001b[0;32m     23\u001b[0m \u001b[0mfloat\u001b[0m\u001b[1;33m(\u001b[0m\u001b[0mt\u001b[0m\u001b[1;33m)\u001b[0m\u001b[1;33m\u001b[0m\u001b[1;33m\u001b[0m\u001b[0m\n",
      "\u001b[1;31mValueError\u001b[0m: invalid literal for int() with base 10: '5 8'"
     ]
    }
   ],
   "source": [
    "a = 2\n",
    "b = \"avanthi\"\n",
    "c = 9.8\n",
    "\n",
    "# integer --> float and string\n",
    "float(a)\n",
    "str(a)\n",
    "\n",
    "# float --> integer and string\n",
    "str(c)\n",
    "int(c)\n",
    "\n",
    "# string --> we can't\n",
    "# int(b)\n",
    "# float(b)\n",
    "\n",
    "s = '438'\n",
    "int(s)\n",
    "float(s)\n",
    "\n",
    "t = '5 8'\n",
    "int(t)\n",
    "float(t)"
   ]
  },
  {
   "cell_type": "markdown",
   "metadata": {},
   "source": [
    "### Dynamic Input\n",
    "\n",
    "- input() --> this is the method that allows the user to give their own input.\n",
    "- This method consider all inputs in the form of string only.\n",
    "- inside the parathesis we may put any prompt"
   ]
  },
  {
   "cell_type": "code",
   "execution_count": 48,
   "metadata": {
    "scrolled": false
   },
   "outputs": [
    {
     "name": "stdout",
     "output_type": "stream",
     "text": [
      "Enter ur name: 560602\n"
     ]
    }
   ],
   "source": [
    "user_name = int(input(\"Enter ur name: \"))"
   ]
  },
  {
   "cell_type": "code",
   "execution_count": 49,
   "metadata": {
    "scrolled": false
   },
   "outputs": [
    {
     "name": "stdout",
     "output_type": "stream",
     "text": [
      "560602\n"
     ]
    }
   ],
   "source": [
    "print(user_name)"
   ]
  },
  {
   "cell_type": "markdown",
   "metadata": {},
   "source": [
    "## Arithmetic Operators"
   ]
  },
  {
   "cell_type": "code",
   "execution_count": 53,
   "metadata": {
    "scrolled": true
   },
   "outputs": [
    {
     "name": "stdout",
     "output_type": "stream",
     "text": [
      "35 15 250 2.5\n",
      "2 95367431640625 5\n"
     ]
    }
   ],
   "source": [
    "# +,-,*,/,//,**,%\n",
    "\n",
    "t = 25\n",
    "v = 10\n",
    "\n",
    "print(t+v,t-v,t*v,t/v) # addition,subtraction,multiplication,division\n",
    "\n",
    "print(t//v,t**v,t%v) # floor division, exponentiation, modulus"
   ]
  },
  {
   "cell_type": "markdown",
   "metadata": {},
   "source": [
    "## Assignment Operators"
   ]
  },
  {
   "cell_type": "code",
   "execution_count": 57,
   "metadata": {},
   "outputs": [
    {
     "name": "stdout",
     "output_type": "stream",
     "text": [
      "20\n",
      "6\n",
      "1296\n",
      "6\n"
     ]
    }
   ],
   "source": [
    "g = 12\n",
    "\n",
    "# add 8 to g and again i want to store the value in g\n",
    "\n",
    "g += 8 #g = g+8\n",
    "print(g)\n",
    "\n",
    "# sub 14 from g \n",
    "g -= 14 # g = g-14\n",
    "print(g)\n",
    "\n",
    "# power 4\n",
    "g **= 4  # g=g**4\n",
    "print(g)\n",
    "\n",
    "# modulus 10\n",
    "g %= 10\n",
    "print(g)\n"
   ]
  },
  {
   "cell_type": "code",
   "execution_count": 63,
   "metadata": {},
   "outputs": [
    {
     "data": {
      "text/plain": [
       "1"
      ]
     },
     "execution_count": 63,
     "metadata": {},
     "output_type": "execute_result"
    }
   ],
   "source": [
    "129 % 2"
   ]
  },
  {
   "cell_type": "code",
   "execution_count": 59,
   "metadata": {},
   "outputs": [
    {
     "data": {
      "text/plain": [
       "10"
      ]
     },
     "execution_count": 59,
     "metadata": {},
     "output_type": "execute_result"
    }
   ],
   "source": [
    "5*2"
   ]
  },
  {
   "cell_type": "code",
   "execution_count": null,
   "metadata": {},
   "outputs": [],
   "source": []
  },
  {
   "cell_type": "code",
   "execution_count": null,
   "metadata": {},
   "outputs": [],
   "source": []
  },
  {
   "cell_type": "code",
   "execution_count": null,
   "metadata": {},
   "outputs": [],
   "source": []
  },
  {
   "cell_type": "code",
   "execution_count": null,
   "metadata": {},
   "outputs": [],
   "source": []
  }
 ],
 "metadata": {
  "kernelspec": {
   "display_name": "Python 3",
   "language": "python",
   "name": "python3"
  },
  "language_info": {
   "codemirror_mode": {
    "name": "ipython",
    "version": 3
   },
   "file_extension": ".py",
   "mimetype": "text/x-python",
   "name": "python",
   "nbconvert_exporter": "python",
   "pygments_lexer": "ipython3",
   "version": "3.7.6"
  }
 },
 "nbformat": 4,
 "nbformat_minor": 4
}
